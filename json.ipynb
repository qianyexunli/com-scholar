{
 "cells": [
  {
   "cell_type": "code",
   "execution_count": 1,
   "id": "70865a4c-e8a4-4a99-a0ab-6f59d134f3bd",
   "metadata": {},
   "outputs": [
    {
     "name": "stdout",
     "output_type": "stream",
     "text": [
      "空对象 JSON 文件已成功创建！\n"
     ]
    }
   ],
   "source": [
    "import json\n",
    "\n",
    "# 定义空对象\n",
    "data = {}\n",
    "\n",
    "# 写入 JSON 文件\n",
    "with open(\"chat_sessions.json\", \"w\", encoding=\"utf-8\") as file:\n",
    "    json.dump(data, file, ensure_ascii=False, indent=4)\n",
    "\n",
    "print(\"空对象 JSON 文件已成功创建！\")"
   ]
  },
  {
   "cell_type": "code",
   "execution_count": null,
   "id": "779c5946-b475-4e86-a26f-2fcb4bb11b2e",
   "metadata": {},
   "outputs": [],
   "source": []
  }
 ],
 "metadata": {
  "kernelspec": {
   "display_name": "Python 3 (ipykernel)",
   "language": "python",
   "name": "python3"
  },
  "language_info": {
   "codemirror_mode": {
    "name": "ipython",
    "version": 3
   },
   "file_extension": ".py",
   "mimetype": "text/x-python",
   "name": "python",
   "nbconvert_exporter": "python",
   "pygments_lexer": "ipython3",
   "version": "3.9.19"
  }
 },
 "nbformat": 4,
 "nbformat_minor": 5
}
