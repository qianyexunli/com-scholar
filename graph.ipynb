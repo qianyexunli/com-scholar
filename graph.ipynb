{
 "cells": [
  {
   "cell_type": "code",
   "execution_count": 8,
   "id": "645e0efb-7bea-4111-babb-f788f3fd41e2",
   "metadata": {},
   "outputs": [
    {
     "name": "stdout",
     "output_type": "stream",
     "text": [
      "数据已成功保存到 paper_info.json\n"
     ]
    }
   ],
   "source": [
    "from py2neo import Graph\n",
    "import json\n",
    "\n",
    "# 连接数据库\n",
    "graph = Graph(\"neo4j+s://a36f6471.databases.neo4j.io\", auth=(\"neo4j\", \"E7QyiOiiDAi0SjQY7eXvUyjNPNzEHa4sYsMdlTqc1gI\"))\n",
    "\n",
    "# 查询所有 is_main=True 的 paper 及其作者\n",
    "def normalize_author_name(name):\n",
    "    if ',' in name:\n",
    "        parts = [part.strip() for part in name.split(',')]\n",
    "        return f\"{parts[1]} {parts[0]}\"\n",
    "    return name.strip()\n",
    "\n",
    "# 构造结构化字典\n",
    "paper_info_dict = {\n",
    "    row[\"title\"]: {\n",
    "        \"authors\": [normalize_author_name(name) for name in row[\"authors\"]],\n",
    "        \"source\": row[\"source\"],\n",
    "        \"year\": row[\"year\"]\n",
    "    }\n",
    "    for row in results\n",
    "}\n",
    "\n",
    "output_file = \"paper_info.json\"\n",
    "\n",
    "# 将字典保存为 JSON 文件\n",
    "with open(output_file, \"w\", encoding=\"utf-8\") as json_file:\n",
    "    json.dump(paper_info_dict, json_file, ensure_ascii=False, indent=4)\n",
    "\n",
    "print(f\"数据已成功保存到 {output_file}\")"
   ]
  },
  {
   "cell_type": "code",
   "execution_count": 9,
   "id": "2ce05d63-73e8-4228-9a01-426f181e2be0",
   "metadata": {},
   "outputs": [
    {
     "data": {
      "text/plain": [
       "1268"
      ]
     },
     "execution_count": 9,
     "metadata": {},
     "output_type": "execute_result"
    }
   ],
   "source": [
    "len(paper_info_dict)"
   ]
  },
  {
   "cell_type": "code",
   "execution_count": 7,
   "id": "dd97413f-7f63-488a-9c8f-e60d7a58ed17",
   "metadata": {},
   "outputs": [
    {
     "name": "stdout",
     "output_type": "stream",
     "text": [
      "以下文件未能匹配到任何 paper title：\n"
     ]
    }
   ],
   "source": [
    "import os\n",
    "\n",
    "# 替换为你的文件夹路径\n",
    "folder_path = \"E:ofc/pdf1/md/json all\"\n",
    "\n",
    "def normalize_title(title):\n",
    "    return title.lower().replace(\":\", \"\").replace(\"?\", \"\").replace(\"/\", \"\").replace(\"_\", \"\").replace(\"<\", \"\").strip()\n",
    "\n",
    "\n",
    "# 获取所有文件名（不带扩展名）\n",
    "file_names = [normalize_title(os.path.splitext(f)[0]) for f in os.listdir(folder_path) if os.path.isfile(os.path.join(folder_path, f))]\n",
    "\n",
    "# 获取字典中所有 paper title（用于匹配）\n",
    "normalized_titles = {normalize_title(title) for title in paper_authors_dict.keys()}\n",
    "\n",
    "# 找出未匹配的文件名（保留原始文件名用于输出）\n",
    "all_files = [f for f in os.listdir(folder_path) if os.path.isfile(os.path.join(folder_path, f))]\n",
    "unmatched_files = [f for f in all_files if normalize_title(os.path.splitext(f)[0]) not in normalized_titles]\n",
    "\n",
    "# 输出未匹配的文件名\n",
    "print(\"以下文件未能匹配到任何 paper title：\")\n",
    "for f in unmatched_files:\n",
    "    print(f)\n"
   ]
  },
  {
   "cell_type": "code",
   "execution_count": null,
   "id": "5f96a1ee-d134-4109-9583-307dd36947dd",
   "metadata": {},
   "outputs": [],
   "source": []
  }
 ],
 "metadata": {
  "kernelspec": {
   "display_name": "Python 3 (ipykernel)",
   "language": "python",
   "name": "python3"
  },
  "language_info": {
   "codemirror_mode": {
    "name": "ipython",
    "version": 3
   },
   "file_extension": ".py",
   "mimetype": "text/x-python",
   "name": "python",
   "nbconvert_exporter": "python",
   "pygments_lexer": "ipython3",
   "version": "3.9.19"
  }
 },
 "nbformat": 4,
 "nbformat_minor": 5
}
