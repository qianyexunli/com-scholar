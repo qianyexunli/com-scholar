{
 "cells": [
  {
   "cell_type": "code",
   "execution_count": 5,
   "id": "b168ac05-ed76-42bc-9b1b-31dd99bf0432",
   "metadata": {},
   "outputs": [
    {
     "name": "stdout",
     "output_type": "stream",
     "text": [
      "✅ 合并完成：\n",
      "📁 merged_output.json 包含 1153 条数据\n"
     ]
    }
   ],
   "source": [
    "import os\n",
    "import json\n",
    "\n",
    "# 文件路径\n",
    "json_folder = \"E:/ofc/pdf1/md/json all\"  # JSON 文件夹路径\n",
    "metadata_file = \"matched_items.json\"     # metadata 文件路径\n",
    "output_path = \"E:/ofc/pdf1/md\"           # 输出路径\n",
    "\n",
    "# 载入 metadata 中的 Title 映射\n",
    "def normalize_title(title):\n",
    "    return title.lower().replace(\":\", \"\").replace(\"?\", \"\").replace(\"/\", \"\").replace(\"_\", \"\").replace(\"<\", \"\").strip()\n",
    "\n",
    "with open(metadata_file, \"r\", encoding=\"utf-8\") as f:\n",
    "    metadata_list = json.load(f)\n",
    "\n",
    "title_to_metadata = {\n",
    "    normalize_title(item[\"Title\"]): item[\"Title\"]\n",
    "    for item in metadata_list if \"Title\" in item\n",
    "}\n",
    "\n",
    "merged_dict = {}\n",
    "\n",
    "for filename in os.listdir(json_folder):\n",
    "    if filename.endswith('.json'):\n",
    "        file_path = os.path.join(json_folder, filename)\n",
    "        try:\n",
    "            with open(file_path, 'r', encoding='utf-8') as f:\n",
    "                data = json.load(f)\n",
    "                raw_title = os.path.splitext(filename)[0]\n",
    "                norm_title = normalize_title(raw_title)\n",
    "                real_title = title_to_metadata.get(norm_title)\n",
    "\n",
    "                if real_title:  # 如果能匹配到真实标题\n",
    "                    merged_dict[real_title] = data\n",
    "                else:\n",
    "                    print(f\"❗ 未匹配到真实标题: {filename}\")\n",
    "        except json.JSONDecodeError:\n",
    "            print(f\"❌ 无法解析 JSON 文件: {filename}\")\n",
    "\n",
    "# 保存合并后的字典\n",
    "output_file = 'papers.json'\n",
    "with open(output_file, 'w', encoding='utf-8') as f:\n",
    "    json.dump(merged_dict, f, indent=2, ensure_ascii=False)\n",
    "\n",
    "print(\"✅ 合并完成：\")\n",
    "print(f\"📁 merged_output.json 包含 {len(merged_dict)} 条数据\")"
   ]
  },
  {
   "cell_type": "code",
   "execution_count": null,
   "id": "a5137870-e249-47de-bd2c-604a3811520b",
   "metadata": {},
   "outputs": [],
   "source": []
  }
 ],
 "metadata": {
  "kernelspec": {
   "display_name": "Python 3 (ipykernel)",
   "language": "python",
   "name": "python3"
  },
  "language_info": {
   "codemirror_mode": {
    "name": "ipython",
    "version": 3
   },
   "file_extension": ".py",
   "mimetype": "text/x-python",
   "name": "python",
   "nbconvert_exporter": "python",
   "pygments_lexer": "ipython3",
   "version": "3.9.19"
  }
 },
 "nbformat": 4,
 "nbformat_minor": 5
}
